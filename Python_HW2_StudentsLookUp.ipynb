{
 "cells": [
  {
   "cell_type": "code",
   "execution_count": 1,
   "metadata": {},
   "outputs": [
    {
     "name": "stdout",
     "output_type": "stream",
     "text": [
      "Please input student's name:tony\n",
      "You are looking for: tony\n",
      "tony's room is 11.\n",
      "Please input student's name. Or input 'exit' to leave.andrew\n",
      "You are looking for: andrew\n",
      "andrew's room is 7.\n",
      "Please input student's name. Or input 'exit' to leave.EXIT\n"
     ]
    }
   ],
   "source": [
    "class students:\n",
    "    def __init__(self):\n",
    "        path = \"file path\"\n",
    "        file = open(path, \"r\")\n",
    "        \n",
    "        self.dict = {}\n",
    "        for row in file:\n",
    "            name, room = row.split(\",\")\n",
    "            self.dict[name.lower()] = room\n",
    "        \n",
    "    def lookup(self, name):\n",
    "        try:\n",
    "            room = self.dict[name].strip()\n",
    "            print(name + \"'s room is \" + room + \".\")\n",
    "        except:\n",
    "            print(name + \" does not exist. Please try with another name or exit.\")\n",
    "\n",
    "school = students()\n",
    "stu_name = input(\"Please input student's name:\")\n",
    "while stu_name.lower() != 'exit' and stu_name:\n",
    "    print(\"You are looking for: \"+stu_name)\n",
    "    school.lookup(stu_name.lower())\n",
    "    stu_name = input(\"Please input student's name. Or input 'exit' to leave.\")\n",
    "    "
   ]
  },
  {
   "cell_type": "code",
   "execution_count": null,
   "metadata": {},
   "outputs": [],
   "source": []
  },
  {
   "cell_type": "code",
   "execution_count": null,
   "metadata": {},
   "outputs": [],
   "source": []
  }
 ],
 "metadata": {
  "kernelspec": {
   "display_name": "Python 3",
   "language": "python",
   "name": "python3"
  },
  "language_info": {
   "codemirror_mode": {
    "name": "ipython",
    "version": 3
   },
   "file_extension": ".py",
   "mimetype": "text/x-python",
   "name": "python",
   "nbconvert_exporter": "python",
   "pygments_lexer": "ipython3",
   "version": "3.7.1"
  }
 },
 "nbformat": 4,
 "nbformat_minor": 2
}
